{
 "cells": [
  {
   "cell_type": "markdown",
   "metadata": {},
   "source": [
    "## Implementation for CM226: Homework 3\n",
    "\n",
    "#####  http://web.cs.ucla.edu/~sriram/courses/cm226.fall-2016/homeworks/homework3/home3.pdf\n"
   ]
  },
  {
   "cell_type": "markdown",
   "metadata": {},
   "source": [
    "#### written by Jinhee Kim"
   ]
  },
  {
   "cell_type": "code",
   "execution_count": 1,
   "metadata": {},
   "outputs": [],
   "source": [
    "import numpy as np\n",
    "import matplotlib.pyplot as plt\n",
    "from matplotlib.ticker import MaxNLocator\n",
    "import matplotlib.ticker as mticker\n",
    "import pylab"
   ]
  },
  {
   "cell_type": "code",
   "execution_count": 2,
   "metadata": {},
   "outputs": [],
   "source": [
    "# matrix of x_i,j\n",
    "# (1000, 5000)\n",
    "geno1 = open('data/mixture1.geno','r').read().strip().split()\n",
    "geno1 = np.array([[np.int(i) for i in row] for row in geno1])\n",
    "geno1 = np.transpose(geno1)\n",
    "\n",
    "# prior \n",
    "# pi_1, pi_2\n",
    "alpha = open('data/mixture1.alpha','r').read().strip().split()\n",
    "alpha = np.array(alpha).astype(np.float)\n",
    "\n",
    "# Bernuoulli \n",
    "# f_j,k\n",
    "# (5000, 2)\n",
    "freq = open('data/mixture1.freq', 'r').read().strip().split('\\n')\n",
    "freq = np.array([[np.float(i) for i in row.split()] for row in freq])\n",
    "\n",
    "# membership\n",
    "# z_i,k\n",
    "# (1000, 2)\n",
    "ganc = open('data/mixture1.ganc','r').read().strip().split('\\n')\n",
    "ganc = np.array([[np.int(i) for i in row.split()] for row in ganc])\n",
    "\n",
    "# matrix of x_i,j\n",
    "# (1000, 5000)\n",
    "geno2 = open('data/mixture2.geno','r').read().strip().split()\n",
    "geno2 = np.array([[np.int(i) for i in row] for row in geno2])\n",
    "geno2 = np.transpose(geno2)"
   ]
  },
  {
   "cell_type": "code",
   "execution_count": 3,
   "metadata": {},
   "outputs": [],
   "source": [
    "def init_theta(geno, K):\n",
    "    eps = 1e-50\n",
    "    freq = np.random.uniform(eps, 1, (geno.shape[1], K))\n",
    "    alpha = np.random.exponential(1, size=(K))\n",
    "    alpha /= np.sum(alpha)\n",
    "    return freq, alpha\n",
    "\n",
    "def get_log_likelihood(freq, alpha, geno):\n",
    "    eps = 0\n",
    "    c_llh = np.dot(geno, np.log(freq+eps))+np.dot((1-geno),(np.log(1-freq)))\n",
    "    llh = np.log(alpha)+c_llh\n",
    "    return llh\n",
    "\n",
    "def get_Q(em_r, llh):\n",
    "    return np.sum(em_r*llh)\n",
    "\n",
    "def run_estep(em_freq, em_alpha, geno):\n",
    "    clipping_k = -30\n",
    "    llh = get_log_likelihood(em_freq, em_alpha, geno)\n",
    "    max_llh = np.max(llh, 1).reshape(-1, 1)\n",
    "    temp_llh = llh - max_llh \n",
    "    temp_llh = np.clip(temp_llh, clipping_k, None)\n",
    "    new_r = np.exp(temp_llh - np.log(np.sum(np.exp(temp_llh), 1).reshape(-1, 1)))\n",
    "    return new_r\n",
    "\n",
    "def run_mstep(em_r, geno):\n",
    "    r_sum = np.sum(em_r, 0)\n",
    "    new_freq = np.dot(np.transpose(geno), em_r) / r_sum\n",
    "    new_alpha = r_sum / geno.shape[0]\n",
    "    return new_freq, new_alpha\n",
    "\n",
    "def run_EM(freq, alpha, geno):\n",
    "    # E-step\n",
    "    new_r = run_estep(freq, alpha, geno)\n",
    "    # M-step\n",
    "    new_freq, new_alpha = run_mstep(new_r, geno)\n",
    "    \n",
    "    # cal z \n",
    "    # membership\n",
    "    new_r = run_estep(freq, alpha, geno)\n",
    "    new_z = new_r.argmax(axis=1)\n",
    "    #row_max = new_r.max(axis=1).reshape(-1, 1)\n",
    "    #new_z = np.where(new_r == row_max, 1, 0)\n",
    "    \n",
    "    # cal llh\n",
    "    temp_new_llh = get_log_likelihood(new_freq, new_alpha, geno)\n",
    "    new_llh = get_Q(new_r, temp_new_llh)\n",
    "\n",
    "    return new_freq, new_alpha, new_llh, new_z"
   ]
  },
  {
   "cell_type": "code",
   "execution_count": 4,
   "metadata": {},
   "outputs": [],
   "source": [
    "def run_multiple_EM(geno, NUM_ITER=100, NUM_RRST=1, K=2, plot=True):\n",
    "    eps = 1e-50\n",
    "    best = 1\n",
    "    save = dict()\n",
    "    for rrst in range(NUM_RRST):\n",
    "        llh_list = []\n",
    "        cur_freq, cur_alpha = init_theta(geno, K)\n",
    "\n",
    "        for ite in range(NUM_ITER):\n",
    "            new_freq, new_alpha, new_llh, new_z = run_EM(cur_freq, cur_alpha, geno)        \n",
    "            llh_list.append(new_llh)\n",
    "\n",
    "            if ite == 0:\n",
    "                cur_llh = new_llh\n",
    "            elif new_llh < cur_llh:\n",
    "                pass\n",
    "                #print('LL is decreasing, old:{} new:{}'.format(cur_llh, new_llh))\n",
    "            elif new_llh - cur_llh < 10e-8:\n",
    "                print('Stopped because the change in log likelihood < 10e-8')\n",
    "                break\n",
    "\n",
    "            cur_llh, cur_freq, cur_alpha = new_llh, new_freq, new_alpha\n",
    "\n",
    "        save[rrst+1] = dict()\n",
    "        save[rrst+1]['freq'] = new_freq\n",
    "        save[rrst+1]['alpha'] = new_alpha\n",
    "        save[rrst+1]['ganc'] = new_z\n",
    "        save[rrst+1]['llh'] = new_llh\n",
    "        save[rrst+1]['hist_llh'] = llh_list\n",
    "        \n",
    "        #save the solution with the highest log likelihood\n",
    "        if new_llh > save[best]['llh']:\n",
    "            best == rrst+1            \n",
    "        \n",
    "        if plot:\n",
    "            x = [str(i+1) for i in range(len(llh_list))]\n",
    "            plt.plot(x, llh_list, label='init '+str(rrst+1))\n",
    "            plt.title('The log likelihood')\n",
    "            plt.xlabel('iteration')\n",
    "            plt.ylabel('log likelihood')\n",
    "            pylab.legend(loc='lower right')\n",
    "    if plot:\n",
    "        plt.show()\n",
    "\n",
    "    print('Running EM algorithm done.')\n",
    "    return best, save"
   ]
  },
  {
   "cell_type": "markdown",
   "metadata": {},
   "source": [
    "a)"
   ]
  },
  {
   "cell_type": "code",
   "execution_count": 5,
   "metadata": {},
   "outputs": [
    {
     "name": "stdout",
     "output_type": "stream",
     "text": [
      "Stopped because the change in log likelihood < 10e-8\n"
     ]
    },
    {
     "data": {
      "image/png": "[encoded data removed]",
      "text/plain": [
       "<Figure size 432x288 with 1 Axes>"
      ]
     },
     "metadata": {
      "needs_background": "light"
     },
     "output_type": "display_data"
    },
    {
     "name": "stdout",
     "output_type": "stream",
     "text": [
      "Running EM algorithm done.\n"
     ]
    }
   ],
   "source": [
    "best, save = run_multiple_EM(geno=geno1, NUM_ITER=100, NUM_RRST=1, K=2, plot=True)"
   ]
  },
  {
   "cell_type": "markdown",
   "metadata": {},
   "source": [
    "b)"
   ]
  },
  {
   "cell_type": "code",
   "execution_count": 6,
   "metadata": {},
   "outputs": [
    {
     "name": "stdout",
     "output_type": "stream",
     "text": [
      "[0.394 0.606]\n"
     ]
    }
   ],
   "source": [
    "print(save[best]['alpha'])"
   ]
  },
  {
   "cell_type": "markdown",
   "metadata": {},
   "source": [
    "c)"
   ]
  },
  {
   "cell_type": "code",
   "execution_count": 7,
   "metadata": {},
   "outputs": [
    {
     "name": "stdout",
     "output_type": "stream",
     "text": [
      "100.0\n"
     ]
    }
   ],
   "source": [
    "accuracy = np.sum(1*(ganc.argmax(axis=1) == save[best]['ganc']))/len(ganc.argmax(axis=1))*100\n",
    "print(accuracy)"
   ]
  },
  {
   "cell_type": "markdown",
   "metadata": {},
   "source": [
    "d)"
   ]
  },
  {
   "cell_type": "code",
   "execution_count": 8,
   "metadata": {},
   "outputs": [
    {
     "name": "stdout",
     "output_type": "stream",
     "text": [
      "Stopped because the change in log likelihood < 10e-8\n",
      "Stopped because the change in log likelihood < 10e-8\n",
      "Stopped because the change in log likelihood < 10e-8\n"
     ]
    },
    {
     "data": {
      "image/png": "[encoded data removed]",
      "text/plain": [
       "<Figure size 432x288 with 1 Axes>"
      ]
     },
     "metadata": {
      "needs_background": "light"
     },
     "output_type": "display_data"
    },
    {
     "name": "stdout",
     "output_type": "stream",
     "text": [
      "Running EM algorithm done.\n"
     ]
    }
   ],
   "source": [
    "best, save = run_multiple_EM(geno=geno1, NUM_ITER=100, NUM_RRST=3, K=2, plot=True)"
   ]
  },
  {
   "cell_type": "code",
   "execution_count": 9,
   "metadata": {},
   "outputs": [],
   "source": [
    "llhs = [save[key]['llh'] for key in save.keys()]\n",
    "x = list(range(1, len(llhs)+1))"
   ]
  },
  {
   "cell_type": "code",
   "execution_count": 10,
   "metadata": {},
   "outputs": [
    {
     "data": {
      "image/png": "[encoded data removed]",
      "text/plain": [
       "<Figure size 432x288 with 1 Axes>"
      ]
     },
     "metadata": {
      "needs_background": "light"
     },
     "output_type": "display_data"
    }
   ],
   "source": [
    "ax = plt.figure().gca()\n",
    "ax.xaxis.set_major_locator(MaxNLocator(integer=True))\n",
    "ax.plot(x, llhs)\n",
    "plt.title('The log likelihood')\n",
    "plt.xlabel('initialization')\n",
    "plt.ylabel('log likelihood')\n",
    "plt.show()"
   ]
  },
  {
   "cell_type": "code",
   "execution_count": 11,
   "metadata": {},
   "outputs": [],
   "source": [
    "accuracys = [np.sum(1*(ganc.argmax(axis=1) == save[key]['ganc']))/len(ganc.argmax(axis=1))*100 for key in save.keys()]\n",
    "x = list(range(1, len(accuracys)+1))"
   ]
  },
  {
   "cell_type": "code",
   "execution_count": 12,
   "metadata": {},
   "outputs": [
    {
     "data": {
      "image/png": "[encoded data removed]",
      "text/plain": [
       "<Figure size 432x288 with 1 Axes>"
      ]
     },
     "metadata": {
      "needs_background": "light"
     },
     "output_type": "display_data"
    }
   ],
   "source": [
    "ax = plt.figure().gca()\n",
    "ax.xaxis.set_major_locator(MaxNLocator(integer=True))\n",
    "ax.plot(x, accuracys)\n",
    "plt.title('The accuracy of the population label')\n",
    "plt.xlabel('initialization')\n",
    "plt.ylabel('accuracy (%)')\n",
    "plt.ylim(ymax = 110, ymin = 0)\n",
    "plt.show()"
   ]
  },
  {
   "cell_type": "markdown",
   "metadata": {},
   "source": [
    "e)"
   ]
  },
  {
   "cell_type": "code",
   "execution_count": 24,
   "metadata": {},
   "outputs": [
    {
     "name": "stdout",
     "output_type": "stream",
     "text": [
      "Running for #SNPs : 10\n",
      "Running EM algorithm done.\n",
      "Running for #SNPs : 100\n",
      "Stopped because the change in log likelihood < 10e-8\n",
      "Stopped because the change in log likelihood < 10e-8\n",
      "Stopped because the change in log likelihood < 10e-8\n",
      "Running EM algorithm done.\n",
      "Running for #SNPs : 1000\n",
      "Stopped because the change in log likelihood < 10e-8\n",
      "Stopped because the change in log likelihood < 10e-8\n",
      "Stopped because the change in log likelihood < 10e-8\n",
      "Running EM algorithm done.\n",
      "Running for #SNPs : 5000\n",
      "Stopped because the change in log likelihood < 10e-8\n",
      "Stopped because the change in log likelihood < 10e-8\n",
      "Stopped because the change in log likelihood < 10e-8\n",
      "Running EM algorithm done.\n"
     ]
    }
   ],
   "source": [
    "SNP = ['10', '100', '1000', '5000']\n",
    "accs = []\n",
    "for snp in SNP:\n",
    "    print('Running for #SNPs : {}'.format(snp))\n",
    "    best, save = run_multiple_EM(geno=geno1[:,:int(snp)], NUM_ITER=100, NUM_RRST=3, K=2, plot =False)\n",
    "    accs.append(np.sum(1*(ganc.argmax(axis=1) == save[best]['ganc']))/len(ganc.argmax(axis=1))*100)"
   ]
  },
  {
   "cell_type": "code",
   "execution_count": 25,
   "metadata": {},
   "outputs": [
    {
     "data": {
      "text/plain": [
       "[96.39999999999999, 0.1, 100.0, 100.0]"
      ]
     },
     "execution_count": 25,
     "metadata": {},
     "output_type": "execute_result"
    }
   ],
   "source": [
    "accs"
   ]
  },
  {
   "cell_type": "code",
   "execution_count": 26,
   "metadata": {},
   "outputs": [
    {
     "data": {
      "image/png": "[encoded data removed]",
      "text/plain": [
       "<Figure size 432x288 with 1 Axes>"
      ]
     },
     "metadata": {
      "needs_background": "light"
     },
     "output_type": "display_data"
    }
   ],
   "source": [
    "plt.plot(SNP, accs)\n",
    "plt.title('The accuracy of the population label')\n",
    "plt.xlabel('number of SNPs')\n",
    "plt.ylabel('accuracy (%)')\n",
    "plt.ylim(ymax = 101, ymin = 90)\n",
    "plt.show()"
   ]
  },
  {
   "cell_type": "markdown",
   "metadata": {},
   "source": [
    "f)"
   ]
  },
  {
   "cell_type": "code",
   "execution_count": 16,
   "metadata": {
    "scrolled": false
   },
   "outputs": [
    {
     "name": "stdout",
     "output_type": "stream",
     "text": [
      "Stopped because the change in log likelihood < 10e-8\n",
      "Stopped because the change in log likelihood < 10e-8\n",
      "Stopped because the change in log likelihood < 10e-8\n"
     ]
    },
    {
     "data": {
      "image/png": "[encoded data removed]",
      "text/plain": [
       "<Figure size 432x288 with 1 Axes>"
      ]
     },
     "metadata": {
      "needs_background": "light"
     },
     "output_type": "display_data"
    },
    {
     "name": "stdout",
     "output_type": "stream",
     "text": [
      "Running EM algorithm done.\n"
     ]
    }
   ],
   "source": [
    "best, save = run_multiple_EM(geno=geno2, NUM_ITER=100, NUM_RRST=3, K=2, plot=True)"
   ]
  },
  {
   "cell_type": "code",
   "execution_count": 17,
   "metadata": {},
   "outputs": [
    {
     "name": "stdout",
     "output_type": "stream",
     "text": [
      "[0.224 0.776]\n"
     ]
    }
   ],
   "source": [
    "print(save[best]['alpha'])"
   ]
  },
  {
   "cell_type": "markdown",
   "metadata": {},
   "source": [
    "g)"
   ]
  },
  {
   "cell_type": "code",
   "execution_count": 18,
   "metadata": {
    "scrolled": true
   },
   "outputs": [
    {
     "name": "stdout",
     "output_type": "stream",
     "text": [
      "Running for K = 1\n",
      "Stopped because the change in log likelihood < 10e-8\n",
      "Stopped because the change in log likelihood < 10e-8\n",
      "Stopped because the change in log likelihood < 10e-8\n",
      "Running EM algorithm done.\n",
      "Running for K = 2\n",
      "Stopped because the change in log likelihood < 10e-8\n",
      "Stopped because the change in log likelihood < 10e-8\n",
      "Stopped because the change in log likelihood < 10e-8\n",
      "Running EM algorithm done.\n",
      "Running for K = 3\n",
      "Stopped because the change in log likelihood < 10e-8\n",
      "Stopped because the change in log likelihood < 10e-8\n",
      "Stopped because the change in log likelihood < 10e-8\n",
      "Running EM algorithm done.\n",
      "Running for K = 4\n",
      "Stopped because the change in log likelihood < 10e-8\n",
      "Stopped because the change in log likelihood < 10e-8\n",
      "Stopped because the change in log likelihood < 10e-8\n",
      "Running EM algorithm done.\n"
     ]
    }
   ],
   "source": [
    "k_list = [str(i) for i in range(1, 5)]\n",
    "llh_list = []\n",
    "alpha_list=[]\n",
    "for k in k_list:\n",
    "    print('Running for K = {}'.format(k))\n",
    "    best, save = run_multiple_EM(geno=geno2, NUM_ITER=100, NUM_RRST=3, K=int(k), plot=False)\n",
    "    llh_list.append(save[best]['llh'])\n",
    "    alpha_list.append(('K='+k, save[best]['alpha']))"
   ]
  },
  {
   "cell_type": "code",
   "execution_count": 19,
   "metadata": {},
   "outputs": [
    {
     "name": "stdout",
     "output_type": "stream",
     "text": [
      "[('K=1', array([1.])), ('K=2', array([0.776, 0.224])), ('K=3', array([0.768, 0.008, 0.224])), ('K=4', array([5.71998162e-01, 2.24000000e-01, 2.04001838e-01, 9.35746726e-14]))]\n"
     ]
    }
   ],
   "source": [
    "print(alpha_list)"
   ]
  },
  {
   "cell_type": "code",
   "execution_count": 20,
   "metadata": {},
   "outputs": [
    {
     "data": {
      "image/png": "[encoded data removed]",
      "text/plain": [
       "<Figure size 432x288 with 1 Axes>"
      ]
     },
     "metadata": {
      "needs_background": "light"
     },
     "output_type": "display_data"
    }
   ],
   "source": [
    "plt.plot(k_list, llh_list)\n",
    "plt.title('The log likelihood')\n",
    "plt.xlabel('K')\n",
    "plt.ylabel('log likelihood')\n",
    "plt.show()"
   ]
  },
  {
   "cell_type": "code",
   "execution_count": null,
   "metadata": {},
   "outputs": [],
   "source": []
  },
  {
   "cell_type": "code",
   "execution_count": null,
   "metadata": {},
   "outputs": [],
   "source": []
  },
  {
   "cell_type": "code",
   "execution_count": null,
   "metadata": {},
   "outputs": [],
   "source": []
  },
  {
   "cell_type": "code",
   "execution_count": null,
   "metadata": {},
   "outputs": [],
   "source": []
  },
  {
   "cell_type": "code",
   "execution_count": null,
   "metadata": {},
   "outputs": [],
   "source": []
  }
 ],
 "metadata": {
  "kernelspec": {
   "display_name": "Python 3",
   "language": "python",
   "name": "python3"
  },
  "language_info": {
   "codemirror_mode": {
    "name": "ipython",
    "version": 3
   },
   "file_extension": ".py",
   "mimetype": "text/x-python",
   "name": "python",
   "nbconvert_exporter": "python",
   "pygments_lexer": "ipython3",
   "version": "3.7.2"
  }
 },
 "nbformat": 4,
 "nbformat_minor": 2
}
